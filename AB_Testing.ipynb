{
 "cells": [
  {
   "cell_type": "markdown",
   "id": "d03fdfc6",
   "metadata": {},
   "source": [
    "[Dataset](https://www.kaggle.com/datasets/zhangluyuan/ab-testing) was downloaded from Kaggle."
   ]
  },
  {
   "cell_type": "code",
   "execution_count": 49,
   "id": "f26d395c",
   "metadata": {},
   "outputs": [
    {
     "name": "stdout",
     "output_type": "stream",
     "text": [
      "<class 'pandas.core.frame.DataFrame'>\n",
      "RangeIndex: 294478 entries, 0 to 294477\n",
      "Data columns (total 5 columns):\n",
      " #   Column        Non-Null Count   Dtype \n",
      "---  ------        --------------   ----- \n",
      " 0   user_id       294478 non-null  int64 \n",
      " 1   timestamp     294478 non-null  object\n",
      " 2   group         294478 non-null  object\n",
      " 3   landing_page  294478 non-null  object\n",
      " 4   converted     294478 non-null  int64 \n",
      "dtypes: int64(2), object(3)\n",
      "memory usage: 11.2+ MB\n"
     ]
    }
   ],
   "source": [
    "import pandas as pd\n",
    "import numpy as np\n",
    "import scipy.stats as stats\n",
    "import statsmodels.stats.api as sms\n",
    "import matplotlib as mpl\n",
    "import matplotlib.pyplot as plt\n",
    "import seaborn as sns\n",
    "import math\n",
    "\n",
    "df=pd.read_csv('ab_data.csv')\n",
    "df.info()"
   ]
  },
  {
   "cell_type": "code",
   "execution_count": 4,
   "id": "52824241",
   "metadata": {},
   "outputs": [
    {
     "data": {
      "text/html": [
       "<div>\n",
       "<style scoped>\n",
       "    .dataframe tbody tr th:only-of-type {\n",
       "        vertical-align: middle;\n",
       "    }\n",
       "\n",
       "    .dataframe tbody tr th {\n",
       "        vertical-align: top;\n",
       "    }\n",
       "\n",
       "    .dataframe thead th {\n",
       "        text-align: right;\n",
       "    }\n",
       "</style>\n",
       "<table border=\"1\" class=\"dataframe\">\n",
       "  <thead>\n",
       "    <tr style=\"text-align: right;\">\n",
       "      <th></th>\n",
       "      <th>user_id</th>\n",
       "      <th>timestamp</th>\n",
       "      <th>group</th>\n",
       "      <th>landing_page</th>\n",
       "      <th>converted</th>\n",
       "    </tr>\n",
       "  </thead>\n",
       "  <tbody>\n",
       "    <tr>\n",
       "      <th>0</th>\n",
       "      <td>851104</td>\n",
       "      <td>2017-01-21 22:11:48.556739</td>\n",
       "      <td>control</td>\n",
       "      <td>old_page</td>\n",
       "      <td>0</td>\n",
       "    </tr>\n",
       "    <tr>\n",
       "      <th>1</th>\n",
       "      <td>804228</td>\n",
       "      <td>2017-01-12 08:01:45.159739</td>\n",
       "      <td>control</td>\n",
       "      <td>old_page</td>\n",
       "      <td>0</td>\n",
       "    </tr>\n",
       "    <tr>\n",
       "      <th>2</th>\n",
       "      <td>661590</td>\n",
       "      <td>2017-01-11 16:55:06.154213</td>\n",
       "      <td>treatment</td>\n",
       "      <td>new_page</td>\n",
       "      <td>0</td>\n",
       "    </tr>\n",
       "    <tr>\n",
       "      <th>3</th>\n",
       "      <td>853541</td>\n",
       "      <td>2017-01-08 18:28:03.143765</td>\n",
       "      <td>treatment</td>\n",
       "      <td>new_page</td>\n",
       "      <td>0</td>\n",
       "    </tr>\n",
       "    <tr>\n",
       "      <th>4</th>\n",
       "      <td>864975</td>\n",
       "      <td>2017-01-21 01:52:26.210827</td>\n",
       "      <td>control</td>\n",
       "      <td>old_page</td>\n",
       "      <td>1</td>\n",
       "    </tr>\n",
       "  </tbody>\n",
       "</table>\n",
       "</div>"
      ],
      "text/plain": [
       "   user_id                   timestamp      group landing_page  converted\n",
       "0   851104  2017-01-21 22:11:48.556739    control     old_page          0\n",
       "1   804228  2017-01-12 08:01:45.159739    control     old_page          0\n",
       "2   661590  2017-01-11 16:55:06.154213  treatment     new_page          0\n",
       "3   853541  2017-01-08 18:28:03.143765  treatment     new_page          0\n",
       "4   864975  2017-01-21 01:52:26.210827    control     old_page          1"
      ]
     },
     "execution_count": 4,
     "metadata": {},
     "output_type": "execute_result"
    }
   ],
   "source": [
    "df.head()"
   ]
  },
  {
   "cell_type": "markdown",
   "id": "1c4876cb",
   "metadata": {},
   "source": [
    "Need to check that the old page is shown to users from the control group, and the new page is shown to users from the treatment one. If there is mismatch between groups, then these observations must be excluded for correct analysis."
   ]
  },
  {
   "cell_type": "code",
   "execution_count": 23,
   "id": "d5641bb0",
   "metadata": {},
   "outputs": [],
   "source": [
    "mask1=(df['group']=='control')&(df['landing_page']=='new_page')\n",
    "index_to_drop1=df[mask1].index\n",
    "df=df.drop(index_to_drop1)"
   ]
  },
  {
   "cell_type": "code",
   "execution_count": 24,
   "id": "a4df8546",
   "metadata": {},
   "outputs": [],
   "source": [
    "mask2=(df['group']=='treatment')&(df['landing_page']=='old_page')\n",
    "index_to_drop2=df[mask2].index\n",
    "df=df.drop(index_to_drop2)"
   ]
  },
  {
   "cell_type": "code",
   "execution_count": 26,
   "id": "4cb1f9b8",
   "metadata": {},
   "outputs": [
    {
     "name": "stdout",
     "output_type": "stream",
     "text": [
      "(290585, 5)\n"
     ]
    },
    {
     "data": {
      "text/plain": [
       "treatment    145311\n",
       "control      145274\n",
       "Name: group, dtype: int64"
      ]
     },
     "execution_count": 26,
     "metadata": {},
     "output_type": "execute_result"
    }
   ],
   "source": [
    "print(df.shape)\n",
    "df['group'].value_counts()"
   ]
  },
  {
   "cell_type": "code",
   "execution_count": 27,
   "id": "a92394f0",
   "metadata": {},
   "outputs": [
    {
     "name": "stdout",
     "output_type": "stream",
     "text": [
      "290585\n",
      "290584\n"
     ]
    }
   ],
   "source": [
    "#Check how many duplicated users exist\n",
    "print(df['user_id'].count())\n",
    "print(df['user_id'].nunique())"
   ]
  },
  {
   "cell_type": "code",
   "execution_count": 28,
   "id": "fb7aee0d",
   "metadata": {},
   "outputs": [],
   "source": [
    "#Drop duplicated users\n",
    "df.drop_duplicates(subset='user_id', keep='first', inplace=True)"
   ]
  },
  {
   "cell_type": "code",
   "execution_count": 33,
   "id": "38cdb274",
   "metadata": {},
   "outputs": [],
   "source": [
    "#Show the % split between users who saw new vs old page\n",
    "#Calculate pooled probability\n",
    "mask3=df['group']=='control'\n",
    "conversions_control=df['converted'][mask3].sum()\n",
    "total_users_control=df['converted'][mask3].count()\n",
    "\n",
    "mask4=df['group']=='treatment'\n",
    "conversions_treatment=df['converted'][mask4].sum()\n",
    "total_users_treatment=df['converted'][mask4].count()"
   ]
  },
  {
   "cell_type": "code",
   "execution_count": 34,
   "id": "a14cb7f8",
   "metadata": {},
   "outputs": [
    {
     "name": "stdout",
     "output_type": "stream",
     "text": [
      "Split of control users who saw old page vs treatment users who saw new page:  49.99 % 50.01 %\n"
     ]
    }
   ],
   "source": [
    "print ('Split of control users who saw old page vs treatment users who saw new page: ',\n",
    "      round(total_users_control/df['converted'].count()*100, 2), '%',\n",
    "      round(total_users_treatment/df['converted'].count()*100, 2), '%',)"
   ]
  },
  {
   "cell_type": "code",
   "execution_count": 35,
   "id": "e8b1843b",
   "metadata": {},
   "outputs": [
    {
     "name": "stdout",
     "output_type": "stream",
     "text": [
      "Number of control users who converted on old page:  17489\n",
      "Percentage of control users who converted:  12.04 %\n"
     ]
    }
   ],
   "source": [
    "#Count number of users who converted in each group\n",
    "print('Number of control users who converted on old page: ', conversions_control)\n",
    "print('Percentage of control users who converted: ', round((conversions_control/total_users_control)*100, 2),'%')"
   ]
  },
  {
   "cell_type": "code",
   "execution_count": 37,
   "id": "a645d648",
   "metadata": {},
   "outputs": [
    {
     "name": "stdout",
     "output_type": "stream",
     "text": [
      "Number of treatment users who converted on new page:  17264\n",
      "Percentage of treatment users who converted:  11.88 %\n"
     ]
    }
   ],
   "source": [
    "print('Number of treatment users who converted on new page: ', conversions_treatment)\n",
    "print('Percentage of treatment users who converted: ', round((conversions_treatment/total_users_treatment)*100, 2),'%')"
   ]
  },
  {
   "cell_type": "markdown",
   "id": "3e87c9d6",
   "metadata": {},
   "source": [
    "### Test"
   ]
  },
  {
   "cell_type": "code",
   "execution_count": 38,
   "id": "d95de03f",
   "metadata": {},
   "outputs": [
    {
     "data": {
      "text/plain": [
       "0.1203863045004612"
      ]
     },
     "execution_count": 38,
     "metadata": {},
     "output_type": "execute_result"
    }
   ],
   "source": [
    "baseline_rate=conversions_control/total_users_control\n",
    "baseline_rate"
   ]
  },
  {
   "cell_type": "code",
   "execution_count": 39,
   "id": "c3423a2c",
   "metadata": {},
   "outputs": [],
   "source": [
    "practical_significance=0.01 #User defined"
   ]
  },
  {
   "cell_type": "code",
   "execution_count": 40,
   "id": "f19c94d3",
   "metadata": {},
   "outputs": [],
   "source": [
    "confidence_level=0.05 #User defined, for a 95% interval"
   ]
  },
  {
   "cell_type": "code",
   "execution_count": 41,
   "id": "9757871a",
   "metadata": {},
   "outputs": [],
   "source": [
    "sensitivity=0.8 #User defined"
   ]
  },
  {
   "cell_type": "code",
   "execution_count": 43,
   "id": "99d2f50b",
   "metadata": {},
   "outputs": [
    {
     "data": {
      "text/plain": [
       "-0.03020276534775579"
      ]
     },
     "execution_count": 43,
     "metadata": {},
     "output_type": "execute_result"
    }
   ],
   "source": [
    "effect_size=sms.proportion_effectsize(baseline_rate, baseline_rate+practical_significance)\n",
    "effect_size"
   ]
  },
  {
   "cell_type": "code",
   "execution_count": 45,
   "id": "60014834",
   "metadata": {},
   "outputs": [
    {
     "name": "stdout",
     "output_type": "stream",
     "text": [
      "Required sample size:  17209 per group\n"
     ]
    }
   ],
   "source": [
    "sample_size=sms.NormalIndPower().solve_power(effect_size, power=sensitivity, alpha=confidence_level, ratio=1)\n",
    "print('Required sample size: ', round(sample_size), 'per group')"
   ]
  },
  {
   "cell_type": "code",
   "execution_count": 46,
   "id": "a8aa6d4c",
   "metadata": {},
   "outputs": [],
   "source": [
    "mask5=df['group']=='control'\n",
    "conversions_control=df['converted'][mask5].sum()\n",
    "total_users_control=df['converted'][mask5].count()\n",
    "\n",
    "mask6=df['group']=='treatment'\n",
    "conversions_treatment=df['converted'][mask6].sum()\n",
    "total_users_treatment=df['converted'][mask6].count()"
   ]
  },
  {
   "cell_type": "code",
   "execution_count": 47,
   "id": "190ff8e1",
   "metadata": {},
   "outputs": [],
   "source": [
    "prob_pooled=(conversions_control+conversions_treatment)/(total_users_control+total_users_treatment)"
   ]
  },
  {
   "cell_type": "code",
   "execution_count": 50,
   "id": "eec4b4e3",
   "metadata": {},
   "outputs": [],
   "source": [
    "se_pooled=math.sqrt(prob_pooled*(1-prob_pooled)*(1/total_users_control+1/total_users_treatment))"
   ]
  },
  {
   "cell_type": "code",
   "execution_count": 51,
   "id": "e0fe36bd",
   "metadata": {},
   "outputs": [],
   "source": [
    "z_score=stats.norm.ppf(1-confidence_level/2)"
   ]
  },
  {
   "cell_type": "code",
   "execution_count": 52,
   "id": "0cd6c4ee",
   "metadata": {},
   "outputs": [],
   "source": [
    "margin_of_error=se_pooled*z_score"
   ]
  },
  {
   "cell_type": "code",
   "execution_count": 53,
   "id": "8188f54e",
   "metadata": {},
   "outputs": [],
   "source": [
    "#Calculate dhat, the estimated difference between probability of conversions in the experiment and control groups\n",
    "d_hat=(conversions_treatment/total_users_treatment)-(conversions_control/total_users_control)"
   ]
  },
  {
   "cell_type": "code",
   "execution_count": 54,
   "id": "8d2ceb50",
   "metadata": {},
   "outputs": [],
   "source": [
    "#Test if we can reject the null hypothese\n",
    "lower_bound=d_hat-margin_of_error\n",
    "upper_bound=d_hat+margin_of_error"
   ]
  },
  {
   "cell_type": "code",
   "execution_count": 55,
   "id": "faaed0d8",
   "metadata": {},
   "outputs": [
    {
     "name": "stdout",
     "output_type": "stream",
     "text": [
      "Do not reject the null hypothese\n",
      "The lower bound of the confidence interval is:  -0.39 %\n",
      "The upper bound of the confidence interval is:  0.08 %\n"
     ]
    }
   ],
   "source": [
    "if practical_significance<lower_bound:\n",
    "    print('Reject the null hypothese')\n",
    "else:\n",
    "    print('Do not reject the null hypothese')\n",
    "print ('The lower bound of the confidence interval is: ', round (lower_bound*100,2), '%')\n",
    "print ('The upper bound of the confidence interval is: ', round (upper_bound*100,2), '%')"
   ]
  },
  {
   "cell_type": "markdown",
   "id": "19bb9fc7",
   "metadata": {},
   "source": [
    "#### Conclusion\n",
    "There is no statistically significant difference between the two samples. The change that was made to the page had no effect. So we can test the following hypothesis."
   ]
  },
  {
   "cell_type": "code",
   "execution_count": null,
   "id": "8fd15ebc",
   "metadata": {},
   "outputs": [],
   "source": []
  }
 ],
 "metadata": {
  "kernelspec": {
   "display_name": "Python 3 (ipykernel)",
   "language": "python",
   "name": "python3"
  },
  "language_info": {
   "codemirror_mode": {
    "name": "ipython",
    "version": 3
   },
   "file_extension": ".py",
   "mimetype": "text/x-python",
   "name": "python",
   "nbconvert_exporter": "python",
   "pygments_lexer": "ipython3",
   "version": "3.10.9"
  }
 },
 "nbformat": 4,
 "nbformat_minor": 5
}
